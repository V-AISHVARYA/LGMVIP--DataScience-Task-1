{
  "nbformat": 4,
  "nbformat_minor": 0,
  "metadata": {
    "colab": {
      "provenance": [],
      "toc_visible": true,
      "include_colab_link": true
    },
    "kernelspec": {
      "name": "python3",
      "display_name": "Python 3"
    },
    "language_info": {
      "name": "python"
    }
  },
  "cells": [
    {
      "cell_type": "markdown",
      "metadata": {
        "id": "view-in-github",
        "colab_type": "text"
      },
      "source": [
        "<a href=\"https://colab.research.google.com/github/V-AISHVARYA/LGMVIP-DataScience-Task-1/blob/main/LGMVIP_Task1.ipynb\" target=\"_parent\"><img src=\"https://colab.research.google.com/assets/colab-badge.svg\" alt=\"Open In Colab\"/></a>"
      ]
    },
    {
      "cell_type": "markdown",
      "source": [
        "# **Iris Flower Classification**\n",
        "**Task 1**\n",
        "\n",
        "Here we clasify Iris flowers from measurements of sepals and petal length and width(in cm).\n",
        "\n",
        "The Iris dataset contains 3 classes of 50 instances each, where each class refers to type of iris plant.\n",
        "\n",
        "Three classes available are:-\n",
        "\n",
        "*   Iris Setosa\n",
        "\n",
        "*   Iris Versicolor\n",
        "\n",
        "*   Iris Verginica\n",
        "\n",
        "![download.jpeg](data:image/jpeg;base64,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)\n",
        "\n",
        "LET'S BEGIN,"
      ],
      "metadata": {
        "id": "qlZjB1XunKjz"
      }
    },
    {
      "cell_type": "markdown",
      "source": [
        "## **Importing necessary modules**"
      ],
      "metadata": {
        "id": "z0tHwA2WoBjy"
      }
    },
    {
      "cell_type": "code",
      "source": [
        "import pandas as pd   #Used to store the dataset\n",
        "import numpy as np     #Used to carry out operations in array\n",
        "import matplotlib.pyplot as plt    #Used for Data visualization\n",
        "import seaborn as sns   #Used to visualize graph"
      ],
      "metadata": {
        "id": "78O5xGOJoXhq"
      },
      "execution_count": 68,
      "outputs": []
    },
    {
      "cell_type": "markdown",
      "source": [
        "## **Loading the dataset**"
      ],
      "metadata": {
        "id": "EhuBG_1JpGSc"
      }
    },
    {
      "cell_type": "code",
      "source": [
        "df=pd.read_csv(\"Iris.csv\") #read dataset\n",
        "\n"
      ],
      "metadata": {
        "id": "ISvUVhd2pLnY"
      },
      "execution_count": 69,
      "outputs": []
    },
    {
      "cell_type": "markdown",
      "source": [],
      "metadata": {
        "id": "KjCuF9aPKwwZ"
      }
    },
    {
      "cell_type": "code",
      "source": [
        "df.head()  #displays first five entry  of dataset"
      ],
      "metadata": {
        "colab": {
          "base_uri": "https://localhost:8080/",
          "height": 206
        },
        "id": "X5k64JwfrW7s",
        "outputId": "bfa121bb-ac8f-4919-eb27-671b99978ce5"
      },
      "execution_count": 70,
      "outputs": [
        {
          "output_type": "execute_result",
          "data": {
            "text/plain": [
              "   Unnamed: 0  Sepal.Length  Sepal.Width  Petal.Length  Petal.Width species\n",
              "0           1           5.1          3.5           1.4          0.2  setosa\n",
              "1           2           4.9          3.0           1.4          0.2  setosa\n",
              "2           3           4.7          3.2           1.3          0.2  setosa\n",
              "3           4           4.6          3.1           1.5          0.2  setosa\n",
              "4           5           5.0          3.6           1.4          0.2  setosa"
            ],
            "text/html": [
              "\n",
              "\n",
              "  <div id=\"df-cb90fdc7-0cb0-40cc-a508-3345bdf8afcd\">\n",
              "    <div class=\"colab-df-container\">\n",
              "      <div>\n",
              "<style scoped>\n",
              "    .dataframe tbody tr th:only-of-type {\n",
              "        vertical-align: middle;\n",
              "    }\n",
              "\n",
              "    .dataframe tbody tr th {\n",
              "        vertical-align: top;\n",
              "    }\n",
              "\n",
              "    .dataframe thead th {\n",
              "        text-align: right;\n",
              "    }\n",
              "</style>\n",
              "<table border=\"1\" class=\"dataframe\">\n",
              "  <thead>\n",
              "    <tr style=\"text-align: right;\">\n",
              "      <th></th>\n",
              "      <th>Unnamed: 0</th>\n",
              "      <th>Sepal.Length</th>\n",
              "      <th>Sepal.Width</th>\n",
              "      <th>Petal.Length</th>\n",
              "      <th>Petal.Width</th>\n",
              "      <th>species</th>\n",
              "    </tr>\n",
              "  </thead>\n",
              "  <tbody>\n",
              "    <tr>\n",
              "      <th>0</th>\n",
              "      <td>1</td>\n",
              "      <td>5.1</td>\n",
              "      <td>3.5</td>\n",
              "      <td>1.4</td>\n",
              "      <td>0.2</td>\n",
              "      <td>setosa</td>\n",
              "    </tr>\n",
              "    <tr>\n",
              "      <th>1</th>\n",
              "      <td>2</td>\n",
              "      <td>4.9</td>\n",
              "      <td>3.0</td>\n",
              "      <td>1.4</td>\n",
              "      <td>0.2</td>\n",
              "      <td>setosa</td>\n",
              "    </tr>\n",
              "    <tr>\n",
              "      <th>2</th>\n",
              "      <td>3</td>\n",
              "      <td>4.7</td>\n",
              "      <td>3.2</td>\n",
              "      <td>1.3</td>\n",
              "      <td>0.2</td>\n",
              "      <td>setosa</td>\n",
              "    </tr>\n",
              "    <tr>\n",
              "      <th>3</th>\n",
              "      <td>4</td>\n",
              "      <td>4.6</td>\n",
              "      <td>3.1</td>\n",
              "      <td>1.5</td>\n",
              "      <td>0.2</td>\n",
              "      <td>setosa</td>\n",
              "    </tr>\n",
              "    <tr>\n",
              "      <th>4</th>\n",
              "      <td>5</td>\n",
              "      <td>5.0</td>\n",
              "      <td>3.6</td>\n",
              "      <td>1.4</td>\n",
              "      <td>0.2</td>\n",
              "      <td>setosa</td>\n",
              "    </tr>\n",
              "  </tbody>\n",
              "</table>\n",
              "</div>\n",
              "      <button class=\"colab-df-convert\" onclick=\"convertToInteractive('df-cb90fdc7-0cb0-40cc-a508-3345bdf8afcd')\"\n",
              "              title=\"Convert this dataframe to an interactive table.\"\n",
              "              style=\"display:none;\">\n",
              "\n",
              "  <svg xmlns=\"http://www.w3.org/2000/svg\" height=\"24px\"viewBox=\"0 0 24 24\"\n",
              "       width=\"24px\">\n",
              "    <path d=\"M0 0h24v24H0V0z\" fill=\"none\"/>\n",
              "    <path d=\"M18.56 5.44l.94 2.06.94-2.06 2.06-.94-2.06-.94-.94-2.06-.94 2.06-2.06.94zm-11 1L8.5 8.5l.94-2.06 2.06-.94-2.06-.94L8.5 2.5l-.94 2.06-2.06.94zm10 10l.94 2.06.94-2.06 2.06-.94-2.06-.94-.94-2.06-.94 2.06-2.06.94z\"/><path d=\"M17.41 7.96l-1.37-1.37c-.4-.4-.92-.59-1.43-.59-.52 0-1.04.2-1.43.59L10.3 9.45l-7.72 7.72c-.78.78-.78 2.05 0 2.83L4 21.41c.39.39.9.59 1.41.59.51 0 1.02-.2 1.41-.59l7.78-7.78 2.81-2.81c.8-.78.8-2.07 0-2.86zM5.41 20L4 18.59l7.72-7.72 1.47 1.35L5.41 20z\"/>\n",
              "  </svg>\n",
              "      </button>\n",
              "\n",
              "\n",
              "\n",
              "    <div id=\"df-236f8ff4-8303-4730-a1d7-aa2917ac0807\">\n",
              "      <button class=\"colab-df-quickchart\" onclick=\"quickchart('df-236f8ff4-8303-4730-a1d7-aa2917ac0807')\"\n",
              "              title=\"Suggest charts.\"\n",
              "              style=\"display:none;\">\n",
              "\n",
              "<svg xmlns=\"http://www.w3.org/2000/svg\" height=\"24px\"viewBox=\"0 0 24 24\"\n",
              "     width=\"24px\">\n",
              "    <g>\n",
              "        <path d=\"M19 3H5c-1.1 0-2 .9-2 2v14c0 1.1.9 2 2 2h14c1.1 0 2-.9 2-2V5c0-1.1-.9-2-2-2zM9 17H7v-7h2v7zm4 0h-2V7h2v10zm4 0h-2v-4h2v4z\"/>\n",
              "    </g>\n",
              "</svg>\n",
              "      </button>\n",
              "    </div>\n",
              "\n",
              "<style>\n",
              "  .colab-df-quickchart {\n",
              "    background-color: #E8F0FE;\n",
              "    border: none;\n",
              "    border-radius: 50%;\n",
              "    cursor: pointer;\n",
              "    display: none;\n",
              "    fill: #1967D2;\n",
              "    height: 32px;\n",
              "    padding: 0 0 0 0;\n",
              "    width: 32px;\n",
              "  }\n",
              "\n",
              "  .colab-df-quickchart:hover {\n",
              "    background-color: #E2EBFA;\n",
              "    box-shadow: 0px 1px 2px rgba(60, 64, 67, 0.3), 0px 1px 3px 1px rgba(60, 64, 67, 0.15);\n",
              "    fill: #174EA6;\n",
              "  }\n",
              "\n",
              "  [theme=dark] .colab-df-quickchart {\n",
              "    background-color: #3B4455;\n",
              "    fill: #D2E3FC;\n",
              "  }\n",
              "\n",
              "  [theme=dark] .colab-df-quickchart:hover {\n",
              "    background-color: #434B5C;\n",
              "    box-shadow: 0px 1px 3px 1px rgba(0, 0, 0, 0.15);\n",
              "    filter: drop-shadow(0px 1px 2px rgba(0, 0, 0, 0.3));\n",
              "    fill: #FFFFFF;\n",
              "  }\n",
              "</style>\n",
              "\n",
              "    <script>\n",
              "      async function quickchart(key) {\n",
              "        const containerElement = document.querySelector('#' + key);\n",
              "        const charts = await google.colab.kernel.invokeFunction(\n",
              "            'suggestCharts', [key], {});\n",
              "      }\n",
              "    </script>\n",
              "\n",
              "      <script>\n",
              "\n",
              "function displayQuickchartButton(domScope) {\n",
              "  let quickchartButtonEl =\n",
              "    domScope.querySelector('#df-236f8ff4-8303-4730-a1d7-aa2917ac0807 button.colab-df-quickchart');\n",
              "  quickchartButtonEl.style.display =\n",
              "    google.colab.kernel.accessAllowed ? 'block' : 'none';\n",
              "}\n",
              "\n",
              "        displayQuickchartButton(document);\n",
              "      </script>\n",
              "      <style>\n",
              "    .colab-df-container {\n",
              "      display:flex;\n",
              "      flex-wrap:wrap;\n",
              "      gap: 12px;\n",
              "    }\n",
              "\n",
              "    .colab-df-convert {\n",
              "      background-color: #E8F0FE;\n",
              "      border: none;\n",
              "      border-radius: 50%;\n",
              "      cursor: pointer;\n",
              "      display: none;\n",
              "      fill: #1967D2;\n",
              "      height: 32px;\n",
              "      padding: 0 0 0 0;\n",
              "      width: 32px;\n",
              "    }\n",
              "\n",
              "    .colab-df-convert:hover {\n",
              "      background-color: #E2EBFA;\n",
              "      box-shadow: 0px 1px 2px rgba(60, 64, 67, 0.3), 0px 1px 3px 1px rgba(60, 64, 67, 0.15);\n",
              "      fill: #174EA6;\n",
              "    }\n",
              "\n",
              "    [theme=dark] .colab-df-convert {\n",
              "      background-color: #3B4455;\n",
              "      fill: #D2E3FC;\n",
              "    }\n",
              "\n",
              "    [theme=dark] .colab-df-convert:hover {\n",
              "      background-color: #434B5C;\n",
              "      box-shadow: 0px 1px 3px 1px rgba(0, 0, 0, 0.15);\n",
              "      filter: drop-shadow(0px 1px 2px rgba(0, 0, 0, 0.3));\n",
              "      fill: #FFFFFF;\n",
              "    }\n",
              "  </style>\n",
              "\n",
              "      <script>\n",
              "        const buttonEl =\n",
              "          document.querySelector('#df-cb90fdc7-0cb0-40cc-a508-3345bdf8afcd button.colab-df-convert');\n",
              "        buttonEl.style.display =\n",
              "          google.colab.kernel.accessAllowed ? 'block' : 'none';\n",
              "\n",
              "        async function convertToInteractive(key) {\n",
              "          const element = document.querySelector('#df-cb90fdc7-0cb0-40cc-a508-3345bdf8afcd');\n",
              "          const dataTable =\n",
              "            await google.colab.kernel.invokeFunction('convertToInteractive',\n",
              "                                                     [key], {});\n",
              "          if (!dataTable) return;\n",
              "\n",
              "          const docLinkHtml = 'Like what you see? Visit the ' +\n",
              "            '<a target=\"_blank\" href=https://colab.research.google.com/notebooks/data_table.ipynb>data table notebook</a>'\n",
              "            + ' to learn more about interactive tables.';\n",
              "          element.innerHTML = '';\n",
              "          dataTable['output_type'] = 'display_data';\n",
              "          await google.colab.output.renderOutput(dataTable, element);\n",
              "          const docLink = document.createElement('div');\n",
              "          docLink.innerHTML = docLinkHtml;\n",
              "          element.appendChild(docLink);\n",
              "        }\n",
              "      </script>\n",
              "    </div>\n",
              "  </div>\n"
            ]
          },
          "metadata": {},
          "execution_count": 70
        }
      ]
    },
    {
      "cell_type": "code",
      "source": [
        "df.tail() #displays last five entry  of dataset"
      ],
      "metadata": {
        "colab": {
          "base_uri": "https://localhost:8080/",
          "height": 206
        },
        "id": "b4gTa_fVPgV_",
        "outputId": "dd78972f-9394-486e-f7e3-8e603b42ebce"
      },
      "execution_count": 71,
      "outputs": [
        {
          "output_type": "execute_result",
          "data": {
            "text/plain": [
              "     Unnamed: 0  Sepal.Length  Sepal.Width  Petal.Length  Petal.Width  \\\n",
              "145         146           6.7          3.0           5.2          2.3   \n",
              "146         147           6.3          2.5           5.0          1.9   \n",
              "147         148           6.5          3.0           5.2          2.0   \n",
              "148         149           6.2          3.4           5.4          2.3   \n",
              "149         150           5.9          3.0           5.1          1.8   \n",
              "\n",
              "       species  \n",
              "145  virginica  \n",
              "146  virginica  \n",
              "147  virginica  \n",
              "148  virginica  \n",
              "149  virginica  "
            ],
            "text/html": [
              "\n",
              "\n",
              "  <div id=\"df-3b2bd83c-f0fe-40c5-ae1c-8490e8a2d4b0\">\n",
              "    <div class=\"colab-df-container\">\n",
              "      <div>\n",
              "<style scoped>\n",
              "    .dataframe tbody tr th:only-of-type {\n",
              "        vertical-align: middle;\n",
              "    }\n",
              "\n",
              "    .dataframe tbody tr th {\n",
              "        vertical-align: top;\n",
              "    }\n",
              "\n",
              "    .dataframe thead th {\n",
              "        text-align: right;\n",
              "    }\n",
              "</style>\n",
              "<table border=\"1\" class=\"dataframe\">\n",
              "  <thead>\n",
              "    <tr style=\"text-align: right;\">\n",
              "      <th></th>\n",
              "      <th>Unnamed: 0</th>\n",
              "      <th>Sepal.Length</th>\n",
              "      <th>Sepal.Width</th>\n",
              "      <th>Petal.Length</th>\n",
              "      <th>Petal.Width</th>\n",
              "      <th>species</th>\n",
              "    </tr>\n",
              "  </thead>\n",
              "  <tbody>\n",
              "    <tr>\n",
              "      <th>145</th>\n",
              "      <td>146</td>\n",
              "      <td>6.7</td>\n",
              "      <td>3.0</td>\n",
              "      <td>5.2</td>\n",
              "      <td>2.3</td>\n",
              "      <td>virginica</td>\n",
              "    </tr>\n",
              "    <tr>\n",
              "      <th>146</th>\n",
              "      <td>147</td>\n",
              "      <td>6.3</td>\n",
              "      <td>2.5</td>\n",
              "      <td>5.0</td>\n",
              "      <td>1.9</td>\n",
              "      <td>virginica</td>\n",
              "    </tr>\n",
              "    <tr>\n",
              "      <th>147</th>\n",
              "      <td>148</td>\n",
              "      <td>6.5</td>\n",
              "      <td>3.0</td>\n",
              "      <td>5.2</td>\n",
              "      <td>2.0</td>\n",
              "      <td>virginica</td>\n",
              "    </tr>\n",
              "    <tr>\n",
              "      <th>148</th>\n",
              "      <td>149</td>\n",
              "      <td>6.2</td>\n",
              "      <td>3.4</td>\n",
              "      <td>5.4</td>\n",
              "      <td>2.3</td>\n",
              "      <td>virginica</td>\n",
              "    </tr>\n",
              "    <tr>\n",
              "      <th>149</th>\n",
              "      <td>150</td>\n",
              "      <td>5.9</td>\n",
              "      <td>3.0</td>\n",
              "      <td>5.1</td>\n",
              "      <td>1.8</td>\n",
              "      <td>virginica</td>\n",
              "    </tr>\n",
              "  </tbody>\n",
              "</table>\n",
              "</div>\n",
              "      <button class=\"colab-df-convert\" onclick=\"convertToInteractive('df-3b2bd83c-f0fe-40c5-ae1c-8490e8a2d4b0')\"\n",
              "              title=\"Convert this dataframe to an interactive table.\"\n",
              "              style=\"display:none;\">\n",
              "\n",
              "  <svg xmlns=\"http://www.w3.org/2000/svg\" height=\"24px\"viewBox=\"0 0 24 24\"\n",
              "       width=\"24px\">\n",
              "    <path d=\"M0 0h24v24H0V0z\" fill=\"none\"/>\n",
              "    <path d=\"M18.56 5.44l.94 2.06.94-2.06 2.06-.94-2.06-.94-.94-2.06-.94 2.06-2.06.94zm-11 1L8.5 8.5l.94-2.06 2.06-.94-2.06-.94L8.5 2.5l-.94 2.06-2.06.94zm10 10l.94 2.06.94-2.06 2.06-.94-2.06-.94-.94-2.06-.94 2.06-2.06.94z\"/><path d=\"M17.41 7.96l-1.37-1.37c-.4-.4-.92-.59-1.43-.59-.52 0-1.04.2-1.43.59L10.3 9.45l-7.72 7.72c-.78.78-.78 2.05 0 2.83L4 21.41c.39.39.9.59 1.41.59.51 0 1.02-.2 1.41-.59l7.78-7.78 2.81-2.81c.8-.78.8-2.07 0-2.86zM5.41 20L4 18.59l7.72-7.72 1.47 1.35L5.41 20z\"/>\n",
              "  </svg>\n",
              "      </button>\n",
              "\n",
              "\n",
              "\n",
              "    <div id=\"df-0bdcf4a4-1791-4211-bd0d-e5f86d5b2f2a\">\n",
              "      <button class=\"colab-df-quickchart\" onclick=\"quickchart('df-0bdcf4a4-1791-4211-bd0d-e5f86d5b2f2a')\"\n",
              "              title=\"Suggest charts.\"\n",
              "              style=\"display:none;\">\n",
              "\n",
              "<svg xmlns=\"http://www.w3.org/2000/svg\" height=\"24px\"viewBox=\"0 0 24 24\"\n",
              "     width=\"24px\">\n",
              "    <g>\n",
              "        <path d=\"M19 3H5c-1.1 0-2 .9-2 2v14c0 1.1.9 2 2 2h14c1.1 0 2-.9 2-2V5c0-1.1-.9-2-2-2zM9 17H7v-7h2v7zm4 0h-2V7h2v10zm4 0h-2v-4h2v4z\"/>\n",
              "    </g>\n",
              "</svg>\n",
              "      </button>\n",
              "    </div>\n",
              "\n",
              "<style>\n",
              "  .colab-df-quickchart {\n",
              "    background-color: #E8F0FE;\n",
              "    border: none;\n",
              "    border-radius: 50%;\n",
              "    cursor: pointer;\n",
              "    display: none;\n",
              "    fill: #1967D2;\n",
              "    height: 32px;\n",
              "    padding: 0 0 0 0;\n",
              "    width: 32px;\n",
              "  }\n",
              "\n",
              "  .colab-df-quickchart:hover {\n",
              "    background-color: #E2EBFA;\n",
              "    box-shadow: 0px 1px 2px rgba(60, 64, 67, 0.3), 0px 1px 3px 1px rgba(60, 64, 67, 0.15);\n",
              "    fill: #174EA6;\n",
              "  }\n",
              "\n",
              "  [theme=dark] .colab-df-quickchart {\n",
              "    background-color: #3B4455;\n",
              "    fill: #D2E3FC;\n",
              "  }\n",
              "\n",
              "  [theme=dark] .colab-df-quickchart:hover {\n",
              "    background-color: #434B5C;\n",
              "    box-shadow: 0px 1px 3px 1px rgba(0, 0, 0, 0.15);\n",
              "    filter: drop-shadow(0px 1px 2px rgba(0, 0, 0, 0.3));\n",
              "    fill: #FFFFFF;\n",
              "  }\n",
              "</style>\n",
              "\n",
              "    <script>\n",
              "      async function quickchart(key) {\n",
              "        const containerElement = document.querySelector('#' + key);\n",
              "        const charts = await google.colab.kernel.invokeFunction(\n",
              "            'suggestCharts', [key], {});\n",
              "      }\n",
              "    </script>\n",
              "\n",
              "      <script>\n",
              "\n",
              "function displayQuickchartButton(domScope) {\n",
              "  let quickchartButtonEl =\n",
              "    domScope.querySelector('#df-0bdcf4a4-1791-4211-bd0d-e5f86d5b2f2a button.colab-df-quickchart');\n",
              "  quickchartButtonEl.style.display =\n",
              "    google.colab.kernel.accessAllowed ? 'block' : 'none';\n",
              "}\n",
              "\n",
              "        displayQuickchartButton(document);\n",
              "      </script>\n",
              "      <style>\n",
              "    .colab-df-container {\n",
              "      display:flex;\n",
              "      flex-wrap:wrap;\n",
              "      gap: 12px;\n",
              "    }\n",
              "\n",
              "    .colab-df-convert {\n",
              "      background-color: #E8F0FE;\n",
              "      border: none;\n",
              "      border-radius: 50%;\n",
              "      cursor: pointer;\n",
              "      display: none;\n",
              "      fill: #1967D2;\n",
              "      height: 32px;\n",
              "      padding: 0 0 0 0;\n",
              "      width: 32px;\n",
              "    }\n",
              "\n",
              "    .colab-df-convert:hover {\n",
              "      background-color: #E2EBFA;\n",
              "      box-shadow: 0px 1px 2px rgba(60, 64, 67, 0.3), 0px 1px 3px 1px rgba(60, 64, 67, 0.15);\n",
              "      fill: #174EA6;\n",
              "    }\n",
              "\n",
              "    [theme=dark] .colab-df-convert {\n",
              "      background-color: #3B4455;\n",
              "      fill: #D2E3FC;\n",
              "    }\n",
              "\n",
              "    [theme=dark] .colab-df-convert:hover {\n",
              "      background-color: #434B5C;\n",
              "      box-shadow: 0px 1px 3px 1px rgba(0, 0, 0, 0.15);\n",
              "      filter: drop-shadow(0px 1px 2px rgba(0, 0, 0, 0.3));\n",
              "      fill: #FFFFFF;\n",
              "    }\n",
              "  </style>\n",
              "\n",
              "      <script>\n",
              "        const buttonEl =\n",
              "          document.querySelector('#df-3b2bd83c-f0fe-40c5-ae1c-8490e8a2d4b0 button.colab-df-convert');\n",
              "        buttonEl.style.display =\n",
              "          google.colab.kernel.accessAllowed ? 'block' : 'none';\n",
              "\n",
              "        async function convertToInteractive(key) {\n",
              "          const element = document.querySelector('#df-3b2bd83c-f0fe-40c5-ae1c-8490e8a2d4b0');\n",
              "          const dataTable =\n",
              "            await google.colab.kernel.invokeFunction('convertToInteractive',\n",
              "                                                     [key], {});\n",
              "          if (!dataTable) return;\n",
              "\n",
              "          const docLinkHtml = 'Like what you see? Visit the ' +\n",
              "            '<a target=\"_blank\" href=https://colab.research.google.com/notebooks/data_table.ipynb>data table notebook</a>'\n",
              "            + ' to learn more about interactive tables.';\n",
              "          element.innerHTML = '';\n",
              "          dataTable['output_type'] = 'display_data';\n",
              "          await google.colab.output.renderOutput(dataTable, element);\n",
              "          const docLink = document.createElement('div');\n",
              "          docLink.innerHTML = docLinkHtml;\n",
              "          element.appendChild(docLink);\n",
              "        }\n",
              "      </script>\n",
              "    </div>\n",
              "  </div>\n"
            ]
          },
          "metadata": {},
          "execution_count": 71
        }
      ]
    },
    {
      "cell_type": "code",
      "source": [
        "df.dtypes #return column's data type"
      ],
      "metadata": {
        "colab": {
          "base_uri": "https://localhost:8080/"
        },
        "id": "7oVhjdsrPKfo",
        "outputId": "311a11b7-8e6a-4899-8e39-3f98fbe4a1ef"
      },
      "execution_count": 72,
      "outputs": [
        {
          "output_type": "execute_result",
          "data": {
            "text/plain": [
              "Unnamed: 0        int64\n",
              "Sepal.Length    float64\n",
              "Sepal.Width     float64\n",
              "Petal.Length    float64\n",
              "Petal.Width     float64\n",
              "species          object\n",
              "dtype: object"
            ]
          },
          "metadata": {},
          "execution_count": 72
        }
      ]
    },
    {
      "cell_type": "code",
      "source": [
        "df.nunique  #return unique values\n"
      ],
      "metadata": {
        "colab": {
          "base_uri": "https://localhost:8080/"
        },
        "id": "a3UGPiWAPzHy",
        "outputId": "bfccf459-c5f7-49bd-f137-731d1db0849f"
      },
      "execution_count": 73,
      "outputs": [
        {
          "output_type": "execute_result",
          "data": {
            "text/plain": [
              "<bound method DataFrame.nunique of      Unnamed: 0  Sepal.Length  Sepal.Width  Petal.Length  Petal.Width  \\\n",
              "0             1           5.1          3.5           1.4          0.2   \n",
              "1             2           4.9          3.0           1.4          0.2   \n",
              "2             3           4.7          3.2           1.3          0.2   \n",
              "3             4           4.6          3.1           1.5          0.2   \n",
              "4             5           5.0          3.6           1.4          0.2   \n",
              "..          ...           ...          ...           ...          ...   \n",
              "145         146           6.7          3.0           5.2          2.3   \n",
              "146         147           6.3          2.5           5.0          1.9   \n",
              "147         148           6.5          3.0           5.2          2.0   \n",
              "148         149           6.2          3.4           5.4          2.3   \n",
              "149         150           5.9          3.0           5.1          1.8   \n",
              "\n",
              "       species  \n",
              "0       setosa  \n",
              "1       setosa  \n",
              "2       setosa  \n",
              "3       setosa  \n",
              "4       setosa  \n",
              "..         ...  \n",
              "145  virginica  \n",
              "146  virginica  \n",
              "147  virginica  \n",
              "148  virginica  \n",
              "149  virginica  \n",
              "\n",
              "[150 rows x 6 columns]>"
            ]
          },
          "metadata": {},
          "execution_count": 73
        }
      ]
    },
    {
      "cell_type": "code",
      "source": [
        "\n",
        "df.describe()   #displays statistical measures of the data\n"
      ],
      "metadata": {
        "colab": {
          "base_uri": "https://localhost:8080/",
          "height": 300
        },
        "id": "wk9VYroUr8YH",
        "outputId": "39484c0f-11ef-40b4-eb69-6ec45d1d3916"
      },
      "execution_count": 74,
      "outputs": [
        {
          "output_type": "execute_result",
          "data": {
            "text/plain": [
              "       Unnamed: 0  Sepal.Length  Sepal.Width  Petal.Length  Petal.Width\n",
              "count  150.000000    150.000000   150.000000    150.000000   150.000000\n",
              "mean    75.500000      5.843333     3.057333      3.758000     1.199333\n",
              "std     43.445368      0.828066     0.435866      1.765298     0.762238\n",
              "min      1.000000      4.300000     2.000000      1.000000     0.100000\n",
              "25%     38.250000      5.100000     2.800000      1.600000     0.300000\n",
              "50%     75.500000      5.800000     3.000000      4.350000     1.300000\n",
              "75%    112.750000      6.400000     3.300000      5.100000     1.800000\n",
              "max    150.000000      7.900000     4.400000      6.900000     2.500000"
            ],
            "text/html": [
              "\n",
              "\n",
              "  <div id=\"df-0a62c1f9-531c-45ea-af7b-dd51f0101a4e\">\n",
              "    <div class=\"colab-df-container\">\n",
              "      <div>\n",
              "<style scoped>\n",
              "    .dataframe tbody tr th:only-of-type {\n",
              "        vertical-align: middle;\n",
              "    }\n",
              "\n",
              "    .dataframe tbody tr th {\n",
              "        vertical-align: top;\n",
              "    }\n",
              "\n",
              "    .dataframe thead th {\n",
              "        text-align: right;\n",
              "    }\n",
              "</style>\n",
              "<table border=\"1\" class=\"dataframe\">\n",
              "  <thead>\n",
              "    <tr style=\"text-align: right;\">\n",
              "      <th></th>\n",
              "      <th>Unnamed: 0</th>\n",
              "      <th>Sepal.Length</th>\n",
              "      <th>Sepal.Width</th>\n",
              "      <th>Petal.Length</th>\n",
              "      <th>Petal.Width</th>\n",
              "    </tr>\n",
              "  </thead>\n",
              "  <tbody>\n",
              "    <tr>\n",
              "      <th>count</th>\n",
              "      <td>150.000000</td>\n",
              "      <td>150.000000</td>\n",
              "      <td>150.000000</td>\n",
              "      <td>150.000000</td>\n",
              "      <td>150.000000</td>\n",
              "    </tr>\n",
              "    <tr>\n",
              "      <th>mean</th>\n",
              "      <td>75.500000</td>\n",
              "      <td>5.843333</td>\n",
              "      <td>3.057333</td>\n",
              "      <td>3.758000</td>\n",
              "      <td>1.199333</td>\n",
              "    </tr>\n",
              "    <tr>\n",
              "      <th>std</th>\n",
              "      <td>43.445368</td>\n",
              "      <td>0.828066</td>\n",
              "      <td>0.435866</td>\n",
              "      <td>1.765298</td>\n",
              "      <td>0.762238</td>\n",
              "    </tr>\n",
              "    <tr>\n",
              "      <th>min</th>\n",
              "      <td>1.000000</td>\n",
              "      <td>4.300000</td>\n",
              "      <td>2.000000</td>\n",
              "      <td>1.000000</td>\n",
              "      <td>0.100000</td>\n",
              "    </tr>\n",
              "    <tr>\n",
              "      <th>25%</th>\n",
              "      <td>38.250000</td>\n",
              "      <td>5.100000</td>\n",
              "      <td>2.800000</td>\n",
              "      <td>1.600000</td>\n",
              "      <td>0.300000</td>\n",
              "    </tr>\n",
              "    <tr>\n",
              "      <th>50%</th>\n",
              "      <td>75.500000</td>\n",
              "      <td>5.800000</td>\n",
              "      <td>3.000000</td>\n",
              "      <td>4.350000</td>\n",
              "      <td>1.300000</td>\n",
              "    </tr>\n",
              "    <tr>\n",
              "      <th>75%</th>\n",
              "      <td>112.750000</td>\n",
              "      <td>6.400000</td>\n",
              "      <td>3.300000</td>\n",
              "      <td>5.100000</td>\n",
              "      <td>1.800000</td>\n",
              "    </tr>\n",
              "    <tr>\n",
              "      <th>max</th>\n",
              "      <td>150.000000</td>\n",
              "      <td>7.900000</td>\n",
              "      <td>4.400000</td>\n",
              "      <td>6.900000</td>\n",
              "      <td>2.500000</td>\n",
              "    </tr>\n",
              "  </tbody>\n",
              "</table>\n",
              "</div>\n",
              "      <button class=\"colab-df-convert\" onclick=\"convertToInteractive('df-0a62c1f9-531c-45ea-af7b-dd51f0101a4e')\"\n",
              "              title=\"Convert this dataframe to an interactive table.\"\n",
              "              style=\"display:none;\">\n",
              "\n",
              "  <svg xmlns=\"http://www.w3.org/2000/svg\" height=\"24px\"viewBox=\"0 0 24 24\"\n",
              "       width=\"24px\">\n",
              "    <path d=\"M0 0h24v24H0V0z\" fill=\"none\"/>\n",
              "    <path d=\"M18.56 5.44l.94 2.06.94-2.06 2.06-.94-2.06-.94-.94-2.06-.94 2.06-2.06.94zm-11 1L8.5 8.5l.94-2.06 2.06-.94-2.06-.94L8.5 2.5l-.94 2.06-2.06.94zm10 10l.94 2.06.94-2.06 2.06-.94-2.06-.94-.94-2.06-.94 2.06-2.06.94z\"/><path d=\"M17.41 7.96l-1.37-1.37c-.4-.4-.92-.59-1.43-.59-.52 0-1.04.2-1.43.59L10.3 9.45l-7.72 7.72c-.78.78-.78 2.05 0 2.83L4 21.41c.39.39.9.59 1.41.59.51 0 1.02-.2 1.41-.59l7.78-7.78 2.81-2.81c.8-.78.8-2.07 0-2.86zM5.41 20L4 18.59l7.72-7.72 1.47 1.35L5.41 20z\"/>\n",
              "  </svg>\n",
              "      </button>\n",
              "\n",
              "\n",
              "\n",
              "    <div id=\"df-8f814149-6b82-40aa-8b4e-aa55ced67eb4\">\n",
              "      <button class=\"colab-df-quickchart\" onclick=\"quickchart('df-8f814149-6b82-40aa-8b4e-aa55ced67eb4')\"\n",
              "              title=\"Suggest charts.\"\n",
              "              style=\"display:none;\">\n",
              "\n",
              "<svg xmlns=\"http://www.w3.org/2000/svg\" height=\"24px\"viewBox=\"0 0 24 24\"\n",
              "     width=\"24px\">\n",
              "    <g>\n",
              "        <path d=\"M19 3H5c-1.1 0-2 .9-2 2v14c0 1.1.9 2 2 2h14c1.1 0 2-.9 2-2V5c0-1.1-.9-2-2-2zM9 17H7v-7h2v7zm4 0h-2V7h2v10zm4 0h-2v-4h2v4z\"/>\n",
              "    </g>\n",
              "</svg>\n",
              "      </button>\n",
              "    </div>\n",
              "\n",
              "<style>\n",
              "  .colab-df-quickchart {\n",
              "    background-color: #E8F0FE;\n",
              "    border: none;\n",
              "    border-radius: 50%;\n",
              "    cursor: pointer;\n",
              "    display: none;\n",
              "    fill: #1967D2;\n",
              "    height: 32px;\n",
              "    padding: 0 0 0 0;\n",
              "    width: 32px;\n",
              "  }\n",
              "\n",
              "  .colab-df-quickchart:hover {\n",
              "    background-color: #E2EBFA;\n",
              "    box-shadow: 0px 1px 2px rgba(60, 64, 67, 0.3), 0px 1px 3px 1px rgba(60, 64, 67, 0.15);\n",
              "    fill: #174EA6;\n",
              "  }\n",
              "\n",
              "  [theme=dark] .colab-df-quickchart {\n",
              "    background-color: #3B4455;\n",
              "    fill: #D2E3FC;\n",
              "  }\n",
              "\n",
              "  [theme=dark] .colab-df-quickchart:hover {\n",
              "    background-color: #434B5C;\n",
              "    box-shadow: 0px 1px 3px 1px rgba(0, 0, 0, 0.15);\n",
              "    filter: drop-shadow(0px 1px 2px rgba(0, 0, 0, 0.3));\n",
              "    fill: #FFFFFF;\n",
              "  }\n",
              "</style>\n",
              "\n",
              "    <script>\n",
              "      async function quickchart(key) {\n",
              "        const containerElement = document.querySelector('#' + key);\n",
              "        const charts = await google.colab.kernel.invokeFunction(\n",
              "            'suggestCharts', [key], {});\n",
              "      }\n",
              "    </script>\n",
              "\n",
              "      <script>\n",
              "\n",
              "function displayQuickchartButton(domScope) {\n",
              "  let quickchartButtonEl =\n",
              "    domScope.querySelector('#df-8f814149-6b82-40aa-8b4e-aa55ced67eb4 button.colab-df-quickchart');\n",
              "  quickchartButtonEl.style.display =\n",
              "    google.colab.kernel.accessAllowed ? 'block' : 'none';\n",
              "}\n",
              "\n",
              "        displayQuickchartButton(document);\n",
              "      </script>\n",
              "      <style>\n",
              "    .colab-df-container {\n",
              "      display:flex;\n",
              "      flex-wrap:wrap;\n",
              "      gap: 12px;\n",
              "    }\n",
              "\n",
              "    .colab-df-convert {\n",
              "      background-color: #E8F0FE;\n",
              "      border: none;\n",
              "      border-radius: 50%;\n",
              "      cursor: pointer;\n",
              "      display: none;\n",
              "      fill: #1967D2;\n",
              "      height: 32px;\n",
              "      padding: 0 0 0 0;\n",
              "      width: 32px;\n",
              "    }\n",
              "\n",
              "    .colab-df-convert:hover {\n",
              "      background-color: #E2EBFA;\n",
              "      box-shadow: 0px 1px 2px rgba(60, 64, 67, 0.3), 0px 1px 3px 1px rgba(60, 64, 67, 0.15);\n",
              "      fill: #174EA6;\n",
              "    }\n",
              "\n",
              "    [theme=dark] .colab-df-convert {\n",
              "      background-color: #3B4455;\n",
              "      fill: #D2E3FC;\n",
              "    }\n",
              "\n",
              "    [theme=dark] .colab-df-convert:hover {\n",
              "      background-color: #434B5C;\n",
              "      box-shadow: 0px 1px 3px 1px rgba(0, 0, 0, 0.15);\n",
              "      filter: drop-shadow(0px 1px 2px rgba(0, 0, 0, 0.3));\n",
              "      fill: #FFFFFF;\n",
              "    }\n",
              "  </style>\n",
              "\n",
              "      <script>\n",
              "        const buttonEl =\n",
              "          document.querySelector('#df-0a62c1f9-531c-45ea-af7b-dd51f0101a4e button.colab-df-convert');\n",
              "        buttonEl.style.display =\n",
              "          google.colab.kernel.accessAllowed ? 'block' : 'none';\n",
              "\n",
              "        async function convertToInteractive(key) {\n",
              "          const element = document.querySelector('#df-0a62c1f9-531c-45ea-af7b-dd51f0101a4e');\n",
              "          const dataTable =\n",
              "            await google.colab.kernel.invokeFunction('convertToInteractive',\n",
              "                                                     [key], {});\n",
              "          if (!dataTable) return;\n",
              "\n",
              "          const docLinkHtml = 'Like what you see? Visit the ' +\n",
              "            '<a target=\"_blank\" href=https://colab.research.google.com/notebooks/data_table.ipynb>data table notebook</a>'\n",
              "            + ' to learn more about interactive tables.';\n",
              "          element.innerHTML = '';\n",
              "          dataTable['output_type'] = 'display_data';\n",
              "          await google.colab.output.renderOutput(dataTable, element);\n",
              "          const docLink = document.createElement('div');\n",
              "          docLink.innerHTML = docLinkHtml;\n",
              "          element.appendChild(docLink);\n",
              "        }\n",
              "      </script>\n",
              "    </div>\n",
              "  </div>\n"
            ]
          },
          "metadata": {},
          "execution_count": 74
        }
      ]
    },
    {
      "cell_type": "code",
      "source": [
        "\n",
        "df.info() # Used to display info about the data type."
      ],
      "metadata": {
        "colab": {
          "base_uri": "https://localhost:8080/"
        },
        "id": "gCzYDAEItdbD",
        "outputId": "4ddf3dd8-5060-4554-8902-12e5fa340be7"
      },
      "execution_count": 75,
      "outputs": [
        {
          "output_type": "stream",
          "name": "stdout",
          "text": [
            "<class 'pandas.core.frame.DataFrame'>\n",
            "RangeIndex: 150 entries, 0 to 149\n",
            "Data columns (total 6 columns):\n",
            " #   Column        Non-Null Count  Dtype  \n",
            "---  ------        --------------  -----  \n",
            " 0   Unnamed: 0    150 non-null    int64  \n",
            " 1   Sepal.Length  150 non-null    float64\n",
            " 2   Sepal.Width   150 non-null    float64\n",
            " 3   Petal.Length  150 non-null    float64\n",
            " 4   Petal.Width   150 non-null    float64\n",
            " 5   species       150 non-null    object \n",
            "dtypes: float64(4), int64(1), object(1)\n",
            "memory usage: 7.2+ KB\n"
          ]
        }
      ]
    },
    {
      "cell_type": "markdown",
      "source": [
        "## **Preprocessing the dataset**"
      ],
      "metadata": {
        "id": "WZb1m0ujwJLA"
      }
    },
    {
      "cell_type": "code",
      "source": [
        "df.isnull().sum()  # will display the null values for the corresponding columns.\n"
      ],
      "metadata": {
        "colab": {
          "base_uri": "https://localhost:8080/"
        },
        "id": "3C8XFTZdw_RX",
        "outputId": "12b404ab-89ea-4f83-8d03-9d4f1f22de0f"
      },
      "execution_count": 76,
      "outputs": [
        {
          "output_type": "execute_result",
          "data": {
            "text/plain": [
              "Unnamed: 0      0\n",
              "Sepal.Length    0\n",
              "Sepal.Width     0\n",
              "Petal.Length    0\n",
              "Petal.Width     0\n",
              "species         0\n",
              "dtype: int64"
            ]
          },
          "metadata": {},
          "execution_count": 76
        }
      ]
    },
    {
      "cell_type": "markdown",
      "source": [
        "## **Exploratory Data Analysis** - visualization"
      ],
      "metadata": {
        "id": "G658FQaSxMJl"
      }
    },
    {
      "cell_type": "code",
      "source": [
        "df['Sepal.Length'].hist()"
      ],
      "metadata": {
        "colab": {
          "base_uri": "https://localhost:8080/",
          "height": 447
        },
        "id": "SQnGzfjOxbw1",
        "outputId": "43fc083f-51e9-4c59-9365-708fd89fa80c"
      },
      "execution_count": 77,
      "outputs": [
        {
          "output_type": "execute_result",
          "data": {
            "text/plain": [
              "<Axes: >"
            ]
          },
          "metadata": {},
          "execution_count": 77
        },
        {
          "output_type": "display_data",
          "data": {
            "text/plain": [
              "<Figure size 640x480 with 1 Axes>"
            ],
            "image/png": "[encoded data removed]"
          },
          "metadata": {}
        }
      ]
    },
    {
      "cell_type": "code",
      "source": [
        "df['Sepal.Width'].hist()"
      ],
      "metadata": {
        "colab": {
          "base_uri": "https://localhost:8080/",
          "height": 447
        },
        "id": "-HnUzS5pymse",
        "outputId": "a24668eb-135c-44d0-ea89-0f083425698d"
      },
      "execution_count": 78,
      "outputs": [
        {
          "output_type": "execute_result",
          "data": {
            "text/plain": [
              "<Axes: >"
            ]
          },
          "metadata": {},
          "execution_count": 78
        },
        {
          "output_type": "display_data",
          "data": {
            "text/plain": [
              "<Figure size 640x480 with 1 Axes>"
            ],
            "image/png": "[encoded data removed]"
          },
          "metadata": {}
        }
      ]
    },
    {
      "cell_type": "code",
      "source": [
        "df['Petal.Width'].hist()"
      ],
      "metadata": {
        "colab": {
          "base_uri": "https://localhost:8080/",
          "height": 447
        },
        "id": "6WxRMX-k1J9o",
        "outputId": "b01395d1-fe05-4c2c-98fb-e663c67c0060"
      },
      "execution_count": 79,
      "outputs": [
        {
          "output_type": "execute_result",
          "data": {
            "text/plain": [
              "<Axes: >"
            ]
          },
          "metadata": {},
          "execution_count": 79
        },
        {
          "output_type": "display_data",
          "data": {
            "text/plain": [
              "<Figure size 640x480 with 1 Axes>"
            ],
            "image/png": "[encoded data removed]"
          },
          "metadata": {}
        }
      ]
    },
    {
      "cell_type": "code",
      "source": [
        "df['Petal.Length'].hist()"
      ],
      "metadata": {
        "colab": {
          "base_uri": "https://localhost:8080/",
          "height": 447
        },
        "id": "xFdfbKo01Qyb",
        "outputId": "ac720591-8799-4dc9-ac15-70454c062893"
      },
      "execution_count": 80,
      "outputs": [
        {
          "output_type": "execute_result",
          "data": {
            "text/plain": [
              "<Axes: >"
            ]
          },
          "metadata": {},
          "execution_count": 80
        },
        {
          "output_type": "display_data",
          "data": {
            "text/plain": [
              "<Figure size 640x480 with 1 Axes>"
            ],
            "image/png": "[encoded data removed]"
          },
          "metadata": {}
        }
      ]
    },
    {
      "cell_type": "code",
      "source": [
        "colors = ['red','green','violet']\n",
        "species = ['Iris-setosa','Iris-versicolor','Iris-virginica']\n",
        "for i in range(3):\n",
        "  x = df[df['species'] == species[i]] # filter classes from the dataset\n",
        "  plt.scatter(x['Sepal.Length'], x['Sepal.Width'], c = colors[i], label=species[i])\n",
        "\n",
        "plt.xlabel(\"Sepal Length\")\n",
        "plt.ylabel(\"Sepal Width\")\n",
        "plt.legend()"
      ],
      "metadata": {
        "colab": {
          "base_uri": "https://localhost:8080/",
          "height": 466
        },
        "id": "8Jv4QO4p2wWz",
        "outputId": "6aa4b959-97db-4d61-82ae-2dae278fec5f"
      },
      "execution_count": 81,
      "outputs": [
        {
          "output_type": "execute_result",
          "data": {
            "text/plain": [
              "<matplotlib.legend.Legend at 0x7918778f4ac0>"
            ]
          },
          "metadata": {},
          "execution_count": 81
        },
        {
          "output_type": "display_data",
          "data": {
            "text/plain": [
              "<Figure size 640x480 with 1 Axes>"
            ],
            "image/png": "[encoded data removed]"
          },
          "metadata": {}
        }
      ]
    },
    {
      "cell_type": "code",
      "source": [
        "\n",
        "for i in range(3):\n",
        "  x = df[df['species'] == species[i]] # filter classes from the dataset\n",
        "  plt.scatter(x['Petal.Length'], x['Petal.Width'], c = colors[i], label=species[i])\n",
        "\n",
        "plt.xlabel(\"Petal Length\")\n",
        "plt.ylabel(\"Petal Width\")\n",
        "plt.legend()"
      ],
      "metadata": {
        "colab": {
          "base_uri": "https://localhost:8080/",
          "height": 466
        },
        "id": "kWE8jGiD3WQD",
        "outputId": "22d1e806-28f1-458c-bb8d-b8f55a14ff3f"
      },
      "execution_count": 82,
      "outputs": [
        {
          "output_type": "execute_result",
          "data": {
            "text/plain": [
              "<matplotlib.legend.Legend at 0x7918777128c0>"
            ]
          },
          "metadata": {},
          "execution_count": 82
        },
        {
          "output_type": "display_data",
          "data": {
            "text/plain": [
              "<Figure size 640x480 with 1 Axes>"
            ],
            "image/png": "[encoded data removed]"
          },
          "metadata": {}
        }
      ]
    },
    {
      "cell_type": "code",
      "source": [
        "\n",
        "for i in range(3):\n",
        "  x = df[df['species'] == species[i]] # filter classes from the dataset\n",
        "  plt.scatter(x['Sepal.Length'], x['Petal.Length'], c = colors[i], label=species[i])\n",
        "\n",
        "plt.xlabel(\"Sepal Length\")\n",
        "plt.ylabel(\"Petal Length\")\n",
        "plt.legend()"
      ],
      "metadata": {
        "colab": {
          "base_uri": "https://localhost:8080/",
          "height": 466
        },
        "id": "JGQTr7CJ3fOH",
        "outputId": "dc1e8b91-428b-4a6b-f495-adf8bad1a4f1"
      },
      "execution_count": 83,
      "outputs": [
        {
          "output_type": "execute_result",
          "data": {
            "text/plain": [
              "<matplotlib.legend.Legend at 0x791877988550>"
            ]
          },
          "metadata": {},
          "execution_count": 83
        },
        {
          "output_type": "display_data",
          "data": {
            "text/plain": [
              "<Figure size 640x480 with 1 Axes>"
            ],
            "image/png": "[encoded data removed]"
          },
          "metadata": {}
        }
      ]
    },
    {
      "cell_type": "code",
      "source": [
        "for i in range(3):\n",
        "  x = df[df['species'] == species[i]] # filter classes from the dataset\n",
        "  plt.scatter(x['Sepal.Width'], x['Petal.Width'], c = colors[i], label=species[i])\n",
        "\n",
        "plt.xlabel(\"Sepal Width\")\n",
        "plt.ylabel(\"Petal Width\")\n",
        "plt.legend()"
      ],
      "metadata": {
        "colab": {
          "base_uri": "https://localhost:8080/",
          "height": 466
        },
        "id": "SjwV6Dh83hIk",
        "outputId": "48309f88-0bc2-494c-bd5a-d2ab6b837030"
      },
      "execution_count": 84,
      "outputs": [
        {
          "output_type": "execute_result",
          "data": {
            "text/plain": [
              "<matplotlib.legend.Legend at 0x791877989ff0>"
            ]
          },
          "metadata": {},
          "execution_count": 84
        },
        {
          "output_type": "display_data",
          "data": {
            "text/plain": [
              "<Figure size 640x480 with 1 Axes>"
            ],
            "image/png": "[encoded data removed]"
          },
          "metadata": {}
        }
      ]
    },
    {
      "cell_type": "code",
      "source": [
        "df.corr()   # creating correlation matrix - correlation matrix is used to understand the importance between two variables"
      ],
      "metadata": {
        "colab": {
          "base_uri": "https://localhost:8080/",
          "height": 261
        },
        "id": "gTSPOfMp4zT2",
        "outputId": "d41ad6fc-da04-48b2-b363-60602cc54f3c"
      },
      "execution_count": 85,
      "outputs": [
        {
          "output_type": "stream",
          "name": "stderr",
          "text": [
            "<ipython-input-85-b544eb8fce17>:1: FutureWarning: The default value of numeric_only in DataFrame.corr is deprecated. In a future version, it will default to False. Select only valid columns or specify the value of numeric_only to silence this warning.\n",
            "  df.corr()   # creating correlation matrix - correlation matrix is used to understand the importance between two variables\n"
          ]
        },
        {
          "output_type": "execute_result",
          "data": {
            "text/plain": [
              "              Unnamed: 0  Sepal.Length  Sepal.Width  Petal.Length  Petal.Width\n",
              "Unnamed: 0      1.000000      0.716676    -0.402301      0.882637     0.900027\n",
              "Sepal.Length    0.716676      1.000000    -0.117570      0.871754     0.817941\n",
              "Sepal.Width    -0.402301     -0.117570     1.000000     -0.428440    -0.366126\n",
              "Petal.Length    0.882637      0.871754    -0.428440      1.000000     0.962865\n",
              "Petal.Width     0.900027      0.817941    -0.366126      0.962865     1.000000"
            ],
            "text/html": [
              "\n",
              "\n",
              "  <div id=\"df-9d85cae3-03c8-41ad-92d3-ddd232f843f3\">\n",
              "    <div class=\"colab-df-container\">\n",
              "      <div>\n",
              "<style scoped>\n",
              "    .dataframe tbody tr th:only-of-type {\n",
              "        vertical-align: middle;\n",
              "    }\n",
              "\n",
              "    .dataframe tbody tr th {\n",
              "        vertical-align: top;\n",
              "    }\n",
              "\n",
              "    .dataframe thead th {\n",
              "        text-align: right;\n",
              "    }\n",
              "</style>\n",
              "<table border=\"1\" class=\"dataframe\">\n",
              "  <thead>\n",
              "    <tr style=\"text-align: right;\">\n",
              "      <th></th>\n",
              "      <th>Unnamed: 0</th>\n",
              "      <th>Sepal.Length</th>\n",
              "      <th>Sepal.Width</th>\n",
              "      <th>Petal.Length</th>\n",
              "      <th>Petal.Width</th>\n",
              "    </tr>\n",
              "  </thead>\n",
              "  <tbody>\n",
              "    <tr>\n",
              "      <th>Unnamed: 0</th>\n",
              "      <td>1.000000</td>\n",
              "      <td>0.716676</td>\n",
              "      <td>-0.402301</td>\n",
              "      <td>0.882637</td>\n",
              "      <td>0.900027</td>\n",
              "    </tr>\n",
              "    <tr>\n",
              "      <th>Sepal.Length</th>\n",
              "      <td>0.716676</td>\n",
              "      <td>1.000000</td>\n",
              "      <td>-0.117570</td>\n",
              "      <td>0.871754</td>\n",
              "      <td>0.817941</td>\n",
              "    </tr>\n",
              "    <tr>\n",
              "      <th>Sepal.Width</th>\n",
              "      <td>-0.402301</td>\n",
              "      <td>-0.117570</td>\n",
              "      <td>1.000000</td>\n",
              "      <td>-0.428440</td>\n",
              "      <td>-0.366126</td>\n",
              "    </tr>\n",
              "    <tr>\n",
              "      <th>Petal.Length</th>\n",
              "      <td>0.882637</td>\n",
              "      <td>0.871754</td>\n",
              "      <td>-0.428440</td>\n",
              "      <td>1.000000</td>\n",
              "      <td>0.962865</td>\n",
              "    </tr>\n",
              "    <tr>\n",
              "      <th>Petal.Width</th>\n",
              "      <td>0.900027</td>\n",
              "      <td>0.817941</td>\n",
              "      <td>-0.366126</td>\n",
              "      <td>0.962865</td>\n",
              "      <td>1.000000</td>\n",
              "    </tr>\n",
              "  </tbody>\n",
              "</table>\n",
              "</div>\n",
              "      <button class=\"colab-df-convert\" onclick=\"convertToInteractive('df-9d85cae3-03c8-41ad-92d3-ddd232f843f3')\"\n",
              "              title=\"Convert this dataframe to an interactive table.\"\n",
              "              style=\"display:none;\">\n",
              "\n",
              "  <svg xmlns=\"http://www.w3.org/2000/svg\" height=\"24px\"viewBox=\"0 0 24 24\"\n",
              "       width=\"24px\">\n",
              "    <path d=\"M0 0h24v24H0V0z\" fill=\"none\"/>\n",
              "    <path d=\"M18.56 5.44l.94 2.06.94-2.06 2.06-.94-2.06-.94-.94-2.06-.94 2.06-2.06.94zm-11 1L8.5 8.5l.94-2.06 2.06-.94-2.06-.94L8.5 2.5l-.94 2.06-2.06.94zm10 10l.94 2.06.94-2.06 2.06-.94-2.06-.94-.94-2.06-.94 2.06-2.06.94z\"/><path d=\"M17.41 7.96l-1.37-1.37c-.4-.4-.92-.59-1.43-.59-.52 0-1.04.2-1.43.59L10.3 9.45l-7.72 7.72c-.78.78-.78 2.05 0 2.83L4 21.41c.39.39.9.59 1.41.59.51 0 1.02-.2 1.41-.59l7.78-7.78 2.81-2.81c.8-.78.8-2.07 0-2.86zM5.41 20L4 18.59l7.72-7.72 1.47 1.35L5.41 20z\"/>\n",
              "  </svg>\n",
              "      </button>\n",
              "\n",
              "\n",
              "\n",
              "    <div id=\"df-57fca893-55a2-42a8-822c-526ec721dc05\">\n",
              "      <button class=\"colab-df-quickchart\" onclick=\"quickchart('df-57fca893-55a2-42a8-822c-526ec721dc05')\"\n",
              "              title=\"Suggest charts.\"\n",
              "              style=\"display:none;\">\n",
              "\n",
              "<svg xmlns=\"http://www.w3.org/2000/svg\" height=\"24px\"viewBox=\"0 0 24 24\"\n",
              "     width=\"24px\">\n",
              "    <g>\n",
              "        <path d=\"M19 3H5c-1.1 0-2 .9-2 2v14c0 1.1.9 2 2 2h14c1.1 0 2-.9 2-2V5c0-1.1-.9-2-2-2zM9 17H7v-7h2v7zm4 0h-2V7h2v10zm4 0h-2v-4h2v4z\"/>\n",
              "    </g>\n",
              "</svg>\n",
              "      </button>\n",
              "    </div>\n",
              "\n",
              "<style>\n",
              "  .colab-df-quickchart {\n",
              "    background-color: #E8F0FE;\n",
              "    border: none;\n",
              "    border-radius: 50%;\n",
              "    cursor: pointer;\n",
              "    display: none;\n",
              "    fill: #1967D2;\n",
              "    height: 32px;\n",
              "    padding: 0 0 0 0;\n",
              "    width: 32px;\n",
              "  }\n",
              "\n",
              "  .colab-df-quickchart:hover {\n",
              "    background-color: #E2EBFA;\n",
              "    box-shadow: 0px 1px 2px rgba(60, 64, 67, 0.3), 0px 1px 3px 1px rgba(60, 64, 67, 0.15);\n",
              "    fill: #174EA6;\n",
              "  }\n",
              "\n",
              "  [theme=dark] .colab-df-quickchart {\n",
              "    background-color: #3B4455;\n",
              "    fill: #D2E3FC;\n",
              "  }\n",
              "\n",
              "  [theme=dark] .colab-df-quickchart:hover {\n",
              "    background-color: #434B5C;\n",
              "    box-shadow: 0px 1px 3px 1px rgba(0, 0, 0, 0.15);\n",
              "    filter: drop-shadow(0px 1px 2px rgba(0, 0, 0, 0.3));\n",
              "    fill: #FFFFFF;\n",
              "  }\n",
              "</style>\n",
              "\n",
              "    <script>\n",
              "      async function quickchart(key) {\n",
              "        const containerElement = document.querySelector('#' + key);\n",
              "        const charts = await google.colab.kernel.invokeFunction(\n",
              "            'suggestCharts', [key], {});\n",
              "      }\n",
              "    </script>\n",
              "\n",
              "      <script>\n",
              "\n",
              "function displayQuickchartButton(domScope) {\n",
              "  let quickchartButtonEl =\n",
              "    domScope.querySelector('#df-57fca893-55a2-42a8-822c-526ec721dc05 button.colab-df-quickchart');\n",
              "  quickchartButtonEl.style.display =\n",
              "    google.colab.kernel.accessAllowed ? 'block' : 'none';\n",
              "}\n",
              "\n",
              "        displayQuickchartButton(document);\n",
              "      </script>\n",
              "      <style>\n",
              "    .colab-df-container {\n",
              "      display:flex;\n",
              "      flex-wrap:wrap;\n",
              "      gap: 12px;\n",
              "    }\n",
              "\n",
              "    .colab-df-convert {\n",
              "      background-color: #E8F0FE;\n",
              "      border: none;\n",
              "      border-radius: 50%;\n",
              "      cursor: pointer;\n",
              "      display: none;\n",
              "      fill: #1967D2;\n",
              "      height: 32px;\n",
              "      padding: 0 0 0 0;\n",
              "      width: 32px;\n",
              "    }\n",
              "\n",
              "    .colab-df-convert:hover {\n",
              "      background-color: #E2EBFA;\n",
              "      box-shadow: 0px 1px 2px rgba(60, 64, 67, 0.3), 0px 1px 3px 1px rgba(60, 64, 67, 0.15);\n",
              "      fill: #174EA6;\n",
              "    }\n",
              "\n",
              "    [theme=dark] .colab-df-convert {\n",
              "      background-color: #3B4455;\n",
              "      fill: #D2E3FC;\n",
              "    }\n",
              "\n",
              "    [theme=dark] .colab-df-convert:hover {\n",
              "      background-color: #434B5C;\n",
              "      box-shadow: 0px 1px 3px 1px rgba(0, 0, 0, 0.15);\n",
              "      filter: drop-shadow(0px 1px 2px rgba(0, 0, 0, 0.3));\n",
              "      fill: #FFFFFF;\n",
              "    }\n",
              "  </style>\n",
              "\n",
              "      <script>\n",
              "        const buttonEl =\n",
              "          document.querySelector('#df-9d85cae3-03c8-41ad-92d3-ddd232f843f3 button.colab-df-convert');\n",
              "        buttonEl.style.display =\n",
              "          google.colab.kernel.accessAllowed ? 'block' : 'none';\n",
              "\n",
              "        async function convertToInteractive(key) {\n",
              "          const element = document.querySelector('#df-9d85cae3-03c8-41ad-92d3-ddd232f843f3');\n",
              "          const dataTable =\n",
              "            await google.colab.kernel.invokeFunction('convertToInteractive',\n",
              "                                                     [key], {});\n",
              "          if (!dataTable) return;\n",
              "\n",
              "          const docLinkHtml = 'Like what you see? Visit the ' +\n",
              "            '<a target=\"_blank\" href=https://colab.research.google.com/notebooks/data_table.ipynb>data table notebook</a>'\n",
              "            + ' to learn more about interactive tables.';\n",
              "          element.innerHTML = '';\n",
              "          dataTable['output_type'] = 'display_data';\n",
              "          await google.colab.output.renderOutput(dataTable, element);\n",
              "          const docLink = document.createElement('div');\n",
              "          docLink.innerHTML = docLinkHtml;\n",
              "          element.appendChild(docLink);\n",
              "        }\n",
              "      </script>\n",
              "    </div>\n",
              "  </div>\n"
            ]
          },
          "metadata": {},
          "execution_count": 85
        }
      ]
    },
    {
      "cell_type": "code",
      "source": [
        "corr = df.corr()\n",
        "fig, ax = plt.subplots(figsize=(5,5))\n",
        "sns.heatmap(corr, annot=True, ax=ax)"
      ],
      "metadata": {
        "colab": {
          "base_uri": "https://localhost:8080/",
          "height": 600
        },
        "id": "KXLz0Bpt7m2p",
        "outputId": "563eed75-ad71-40c9-e688-8e7146b4c63d"
      },
      "execution_count": 86,
      "outputs": [
        {
          "output_type": "stream",
          "name": "stderr",
          "text": [
            "<ipython-input-86-70dd0110b51b>:1: FutureWarning: The default value of numeric_only in DataFrame.corr is deprecated. In a future version, it will default to False. Select only valid columns or specify the value of numeric_only to silence this warning.\n",
            "  corr = df.corr()\n"
          ]
        },
        {
          "output_type": "execute_result",
          "data": {
            "text/plain": [
              "<Axes: >"
            ]
          },
          "metadata": {},
          "execution_count": 86
        },
        {
          "output_type": "display_data",
          "data": {
            "text/plain": [
              "<Figure size 500x500 with 2 Axes>"
            ],
            "image/png": "[encoded data removed]"
          },
          "metadata": {}
        }
      ]
    },
    {
      "cell_type": "markdown",
      "source": [
        "## The DATASET is trained to build a **MACHINE LEARNING MODEL**"
      ],
      "metadata": {
        "id": "lDZ2n8huBOHj"
      }
    },
    {
      "cell_type": "code",
      "source": [
        "from sklearn.model_selection import train_test_split\n",
        "X = df.drop(columns=['species'])\n",
        "Y = df['species']\n",
        "x_train, x_test, y_train, y_test = train_test_split(X, Y, test_size=0.30) #training size = 70%"
      ],
      "metadata": {
        "id": "89B-h4SgBlP4"
      },
      "execution_count": 87,
      "outputs": []
    },
    {
      "cell_type": "code",
      "source": [
        "\n",
        "from sklearn.linear_model import LogisticRegression\n",
        "model = LogisticRegression()   #Logistic regression"
      ],
      "metadata": {
        "id": "qks-d-swB1_R"
      },
      "execution_count": 88,
      "outputs": []
    },
    {
      "cell_type": "code",
      "source": [
        "model.fit(x_train, y_train)"
      ],
      "metadata": {
        "colab": {
          "base_uri": "https://localhost:8080/",
          "height": 233
        },
        "id": "FEE_tqxCCNo5",
        "outputId": "42b16702-b926-4bfc-b38b-876322c42794"
      },
      "execution_count": 89,
      "outputs": [
        {
          "output_type": "stream",
          "name": "stderr",
          "text": [
            "/usr/local/lib/python3.10/dist-packages/sklearn/linear_model/_logistic.py:458: ConvergenceWarning: lbfgs failed to converge (status=1):\n",
            "STOP: TOTAL NO. of ITERATIONS REACHED LIMIT.\n",
            "\n",
            "Increase the number of iterations (max_iter) or scale the data as shown in:\n",
            "    https://scikit-learn.org/stable/modules/preprocessing.html\n",
            "Please also refer to the documentation for alternative solver options:\n",
            "    https://scikit-learn.org/stable/modules/linear_model.html#logistic-regression\n",
            "  n_iter_i = _check_optimize_result(\n"
          ]
        },
        {
          "output_type": "execute_result",
          "data": {
            "text/plain": [
              "LogisticRegression()"
            ],
            "text/html": [
              "<style>#sk-container-id-3 {color: black;background-color: white;}#sk-container-id-3 pre{padding: 0;}#sk-container-id-3 div.sk-toggleable {background-color: white;}#sk-container-id-3 label.sk-toggleable__label {cursor: pointer;display: block;width: 100%;margin-bottom: 0;padding: 0.3em;box-sizing: border-box;text-align: center;}#sk-container-id-3 label.sk-toggleable__label-arrow:before {content: \"▸\";float: left;margin-right: 0.25em;color: #696969;}#sk-container-id-3 label.sk-toggleable__label-arrow:hover:before {color: black;}#sk-container-id-3 div.sk-estimator:hover label.sk-toggleable__label-arrow:before {color: black;}#sk-container-id-3 div.sk-toggleable__content {max-height: 0;max-width: 0;overflow: hidden;text-align: left;background-color: #f0f8ff;}#sk-container-id-3 div.sk-toggleable__content pre {margin: 0.2em;color: black;border-radius: 0.25em;background-color: #f0f8ff;}#sk-container-id-3 input.sk-toggleable__control:checked~div.sk-toggleable__content {max-height: 200px;max-width: 100%;overflow: auto;}#sk-container-id-3 input.sk-toggleable__control:checked~label.sk-toggleable__label-arrow:before {content: \"▾\";}#sk-container-id-3 div.sk-estimator input.sk-toggleable__control:checked~label.sk-toggleable__label {background-color: #d4ebff;}#sk-container-id-3 div.sk-label input.sk-toggleable__control:checked~label.sk-toggleable__label {background-color: #d4ebff;}#sk-container-id-3 input.sk-hidden--visually {border: 0;clip: rect(1px 1px 1px 1px);clip: rect(1px, 1px, 1px, 1px);height: 1px;margin: -1px;overflow: hidden;padding: 0;position: absolute;width: 1px;}#sk-container-id-3 div.sk-estimator {font-family: monospace;background-color: #f0f8ff;border: 1px dotted black;border-radius: 0.25em;box-sizing: border-box;margin-bottom: 0.5em;}#sk-container-id-3 div.sk-estimator:hover {background-color: #d4ebff;}#sk-container-id-3 div.sk-parallel-item::after {content: \"\";width: 100%;border-bottom: 1px solid gray;flex-grow: 1;}#sk-container-id-3 div.sk-label:hover label.sk-toggleable__label {background-color: #d4ebff;}#sk-container-id-3 div.sk-serial::before {content: \"\";position: absolute;border-left: 1px solid gray;box-sizing: border-box;top: 0;bottom: 0;left: 50%;z-index: 0;}#sk-container-id-3 div.sk-serial {display: flex;flex-direction: column;align-items: center;background-color: white;padding-right: 0.2em;padding-left: 0.2em;position: relative;}#sk-container-id-3 div.sk-item {position: relative;z-index: 1;}#sk-container-id-3 div.sk-parallel {display: flex;align-items: stretch;justify-content: center;background-color: white;position: relative;}#sk-container-id-3 div.sk-item::before, #sk-container-id-3 div.sk-parallel-item::before {content: \"\";position: absolute;border-left: 1px solid gray;box-sizing: border-box;top: 0;bottom: 0;left: 50%;z-index: -1;}#sk-container-id-3 div.sk-parallel-item {display: flex;flex-direction: column;z-index: 1;position: relative;background-color: white;}#sk-container-id-3 div.sk-parallel-item:first-child::after {align-self: flex-end;width: 50%;}#sk-container-id-3 div.sk-parallel-item:last-child::after {align-self: flex-start;width: 50%;}#sk-container-id-3 div.sk-parallel-item:only-child::after {width: 0;}#sk-container-id-3 div.sk-dashed-wrapped {border: 1px dashed gray;margin: 0 0.4em 0.5em 0.4em;box-sizing: border-box;padding-bottom: 0.4em;background-color: white;}#sk-container-id-3 div.sk-label label {font-family: monospace;font-weight: bold;display: inline-block;line-height: 1.2em;}#sk-container-id-3 div.sk-label-container {text-align: center;}#sk-container-id-3 div.sk-container {/* jupyter's `normalize.less` sets `[hidden] { display: none; }` but bootstrap.min.css set `[hidden] { display: none !important; }` so we also need the `!important` here to be able to override the default hidden behavior on the sphinx rendered scikit-learn.org. See: https://github.com/scikit-learn/scikit-learn/issues/21755 */display: inline-block !important;position: relative;}#sk-container-id-3 div.sk-text-repr-fallback {display: none;}</style><div id=\"sk-container-id-3\" class=\"sk-top-container\"><div class=\"sk-text-repr-fallback\"><pre>LogisticRegression()</pre><b>In a Jupyter environment, please rerun this cell to show the HTML representation or trust the notebook. <br />On GitHub, the HTML representation is unable to render, please try loading this page with nbviewer.org.</b></div><div class=\"sk-container\" hidden><div class=\"sk-item\"><div class=\"sk-estimator sk-toggleable\"><input class=\"sk-toggleable__control sk-hidden--visually\" id=\"sk-estimator-id-3\" type=\"checkbox\" checked><label for=\"sk-estimator-id-3\" class=\"sk-toggleable__label sk-toggleable__label-arrow\">LogisticRegression</label><div class=\"sk-toggleable__content\"><pre>LogisticRegression()</pre></div></div></div></div></div>"
            ]
          },
          "metadata": {},
          "execution_count": 89
        }
      ]
    },
    {
      "cell_type": "code",
      "source": [
        "print(\"Accuracy: \",model.score(x_test, y_test) * 100)"
      ],
      "metadata": {
        "colab": {
          "base_uri": "https://localhost:8080/"
        },
        "id": "iJRTVQhmCRgs",
        "outputId": "4e9113cd-f9b1-48ec-dcfe-2f11f7524d77"
      },
      "execution_count": 90,
      "outputs": [
        {
          "output_type": "stream",
          "name": "stdout",
          "text": [
            "Accuracy:  100.0\n"
          ]
        }
      ]
    },
    {
      "cell_type": "code",
      "source": [
        "from sklearn.neighbors import KNeighborsClassifier\n",
        "model = KNeighborsClassifier() #Clustering"
      ],
      "metadata": {
        "id": "jgA6bL5cCTZS"
      },
      "execution_count": 91,
      "outputs": []
    },
    {
      "cell_type": "code",
      "source": [
        "model.fit(x_train, y_train)"
      ],
      "metadata": {
        "colab": {
          "base_uri": "https://localhost:8080/",
          "height": 74
        },
        "id": "Q-QKKmm8Ccg3",
        "outputId": "54e37845-4f32-461c-dc7a-31e4b2b71bdc"
      },
      "execution_count": 92,
      "outputs": [
        {
          "output_type": "execute_result",
          "data": {
            "text/plain": [
              "KNeighborsClassifier()"
            ],
            "text/html": [
              "<style>#sk-container-id-4 {color: black;background-color: white;}#sk-container-id-4 pre{padding: 0;}#sk-container-id-4 div.sk-toggleable {background-color: white;}#sk-container-id-4 label.sk-toggleable__label {cursor: pointer;display: block;width: 100%;margin-bottom: 0;padding: 0.3em;box-sizing: border-box;text-align: center;}#sk-container-id-4 label.sk-toggleable__label-arrow:before {content: \"▸\";float: left;margin-right: 0.25em;color: #696969;}#sk-container-id-4 label.sk-toggleable__label-arrow:hover:before {color: black;}#sk-container-id-4 div.sk-estimator:hover label.sk-toggleable__label-arrow:before {color: black;}#sk-container-id-4 div.sk-toggleable__content {max-height: 0;max-width: 0;overflow: hidden;text-align: left;background-color: #f0f8ff;}#sk-container-id-4 div.sk-toggleable__content pre {margin: 0.2em;color: black;border-radius: 0.25em;background-color: #f0f8ff;}#sk-container-id-4 input.sk-toggleable__control:checked~div.sk-toggleable__content {max-height: 200px;max-width: 100%;overflow: auto;}#sk-container-id-4 input.sk-toggleable__control:checked~label.sk-toggleable__label-arrow:before {content: \"▾\";}#sk-container-id-4 div.sk-estimator input.sk-toggleable__control:checked~label.sk-toggleable__label {background-color: #d4ebff;}#sk-container-id-4 div.sk-label input.sk-toggleable__control:checked~label.sk-toggleable__label {background-color: #d4ebff;}#sk-container-id-4 input.sk-hidden--visually {border: 0;clip: rect(1px 1px 1px 1px);clip: rect(1px, 1px, 1px, 1px);height: 1px;margin: -1px;overflow: hidden;padding: 0;position: absolute;width: 1px;}#sk-container-id-4 div.sk-estimator {font-family: monospace;background-color: #f0f8ff;border: 1px dotted black;border-radius: 0.25em;box-sizing: border-box;margin-bottom: 0.5em;}#sk-container-id-4 div.sk-estimator:hover {background-color: #d4ebff;}#sk-container-id-4 div.sk-parallel-item::after {content: \"\";width: 100%;border-bottom: 1px solid gray;flex-grow: 1;}#sk-container-id-4 div.sk-label:hover label.sk-toggleable__label {background-color: #d4ebff;}#sk-container-id-4 div.sk-serial::before {content: \"\";position: absolute;border-left: 1px solid gray;box-sizing: border-box;top: 0;bottom: 0;left: 50%;z-index: 0;}#sk-container-id-4 div.sk-serial {display: flex;flex-direction: column;align-items: center;background-color: white;padding-right: 0.2em;padding-left: 0.2em;position: relative;}#sk-container-id-4 div.sk-item {position: relative;z-index: 1;}#sk-container-id-4 div.sk-parallel {display: flex;align-items: stretch;justify-content: center;background-color: white;position: relative;}#sk-container-id-4 div.sk-item::before, #sk-container-id-4 div.sk-parallel-item::before {content: \"\";position: absolute;border-left: 1px solid gray;box-sizing: border-box;top: 0;bottom: 0;left: 50%;z-index: -1;}#sk-container-id-4 div.sk-parallel-item {display: flex;flex-direction: column;z-index: 1;position: relative;background-color: white;}#sk-container-id-4 div.sk-parallel-item:first-child::after {align-self: flex-end;width: 50%;}#sk-container-id-4 div.sk-parallel-item:last-child::after {align-self: flex-start;width: 50%;}#sk-container-id-4 div.sk-parallel-item:only-child::after {width: 0;}#sk-container-id-4 div.sk-dashed-wrapped {border: 1px dashed gray;margin: 0 0.4em 0.5em 0.4em;box-sizing: border-box;padding-bottom: 0.4em;background-color: white;}#sk-container-id-4 div.sk-label label {font-family: monospace;font-weight: bold;display: inline-block;line-height: 1.2em;}#sk-container-id-4 div.sk-label-container {text-align: center;}#sk-container-id-4 div.sk-container {/* jupyter's `normalize.less` sets `[hidden] { display: none; }` but bootstrap.min.css set `[hidden] { display: none !important; }` so we also need the `!important` here to be able to override the default hidden behavior on the sphinx rendered scikit-learn.org. See: https://github.com/scikit-learn/scikit-learn/issues/21755 */display: inline-block !important;position: relative;}#sk-container-id-4 div.sk-text-repr-fallback {display: none;}</style><div id=\"sk-container-id-4\" class=\"sk-top-container\"><div class=\"sk-text-repr-fallback\"><pre>KNeighborsClassifier()</pre><b>In a Jupyter environment, please rerun this cell to show the HTML representation or trust the notebook. <br />On GitHub, the HTML representation is unable to render, please try loading this page with nbviewer.org.</b></div><div class=\"sk-container\" hidden><div class=\"sk-item\"><div class=\"sk-estimator sk-toggleable\"><input class=\"sk-toggleable__control sk-hidden--visually\" id=\"sk-estimator-id-4\" type=\"checkbox\" checked><label for=\"sk-estimator-id-4\" class=\"sk-toggleable__label sk-toggleable__label-arrow\">KNeighborsClassifier</label><div class=\"sk-toggleable__content\"><pre>KNeighborsClassifier()</pre></div></div></div></div></div>"
            ]
          },
          "metadata": {},
          "execution_count": 92
        }
      ]
    },
    {
      "cell_type": "code",
      "source": [
        "print(\"Accuracy: \",model.score(x_test, y_test) * 100)"
      ],
      "metadata": {
        "colab": {
          "base_uri": "https://localhost:8080/"
        },
        "id": "52WPjPlXCk2f",
        "outputId": "ca124d49-0e19-474e-a016-00b1e7a5b5d0"
      },
      "execution_count": 93,
      "outputs": [
        {
          "output_type": "stream",
          "name": "stdout",
          "text": [
            "Accuracy:  100.0\n"
          ]
        }
      ]
    },
    {
      "cell_type": "code",
      "source": [
        "from sklearn.tree import DecisionTreeClassifier\n",
        "model = DecisionTreeClassifier()"
      ],
      "metadata": {
        "id": "YyPDW77nCkus"
      },
      "execution_count": 94,
      "outputs": []
    },
    {
      "cell_type": "code",
      "source": [
        "model.fit(x_train, y_train)"
      ],
      "metadata": {
        "colab": {
          "base_uri": "https://localhost:8080/",
          "height": 74
        },
        "id": "0i1UvzLUCt0t",
        "outputId": "371f157b-89db-47a9-d5f8-6d2fab6bec82"
      },
      "execution_count": 95,
      "outputs": [
        {
          "output_type": "execute_result",
          "data": {
            "text/plain": [
              "DecisionTreeClassifier()"
            ],
            "text/html": [
              "<style>#sk-container-id-5 {color: black;background-color: white;}#sk-container-id-5 pre{padding: 0;}#sk-container-id-5 div.sk-toggleable {background-color: white;}#sk-container-id-5 label.sk-toggleable__label {cursor: pointer;display: block;width: 100%;margin-bottom: 0;padding: 0.3em;box-sizing: border-box;text-align: center;}#sk-container-id-5 label.sk-toggleable__label-arrow:before {content: \"▸\";float: left;margin-right: 0.25em;color: #696969;}#sk-container-id-5 label.sk-toggleable__label-arrow:hover:before {color: black;}#sk-container-id-5 div.sk-estimator:hover label.sk-toggleable__label-arrow:before {color: black;}#sk-container-id-5 div.sk-toggleable__content {max-height: 0;max-width: 0;overflow: hidden;text-align: left;background-color: #f0f8ff;}#sk-container-id-5 div.sk-toggleable__content pre {margin: 0.2em;color: black;border-radius: 0.25em;background-color: #f0f8ff;}#sk-container-id-5 input.sk-toggleable__control:checked~div.sk-toggleable__content {max-height: 200px;max-width: 100%;overflow: auto;}#sk-container-id-5 input.sk-toggleable__control:checked~label.sk-toggleable__label-arrow:before {content: \"▾\";}#sk-container-id-5 div.sk-estimator input.sk-toggleable__control:checked~label.sk-toggleable__label {background-color: #d4ebff;}#sk-container-id-5 div.sk-label input.sk-toggleable__control:checked~label.sk-toggleable__label {background-color: #d4ebff;}#sk-container-id-5 input.sk-hidden--visually {border: 0;clip: rect(1px 1px 1px 1px);clip: rect(1px, 1px, 1px, 1px);height: 1px;margin: -1px;overflow: hidden;padding: 0;position: absolute;width: 1px;}#sk-container-id-5 div.sk-estimator {font-family: monospace;background-color: #f0f8ff;border: 1px dotted black;border-radius: 0.25em;box-sizing: border-box;margin-bottom: 0.5em;}#sk-container-id-5 div.sk-estimator:hover {background-color: #d4ebff;}#sk-container-id-5 div.sk-parallel-item::after {content: \"\";width: 100%;border-bottom: 1px solid gray;flex-grow: 1;}#sk-container-id-5 div.sk-label:hover label.sk-toggleable__label {background-color: #d4ebff;}#sk-container-id-5 div.sk-serial::before {content: \"\";position: absolute;border-left: 1px solid gray;box-sizing: border-box;top: 0;bottom: 0;left: 50%;z-index: 0;}#sk-container-id-5 div.sk-serial {display: flex;flex-direction: column;align-items: center;background-color: white;padding-right: 0.2em;padding-left: 0.2em;position: relative;}#sk-container-id-5 div.sk-item {position: relative;z-index: 1;}#sk-container-id-5 div.sk-parallel {display: flex;align-items: stretch;justify-content: center;background-color: white;position: relative;}#sk-container-id-5 div.sk-item::before, #sk-container-id-5 div.sk-parallel-item::before {content: \"\";position: absolute;border-left: 1px solid gray;box-sizing: border-box;top: 0;bottom: 0;left: 50%;z-index: -1;}#sk-container-id-5 div.sk-parallel-item {display: flex;flex-direction: column;z-index: 1;position: relative;background-color: white;}#sk-container-id-5 div.sk-parallel-item:first-child::after {align-self: flex-end;width: 50%;}#sk-container-id-5 div.sk-parallel-item:last-child::after {align-self: flex-start;width: 50%;}#sk-container-id-5 div.sk-parallel-item:only-child::after {width: 0;}#sk-container-id-5 div.sk-dashed-wrapped {border: 1px dashed gray;margin: 0 0.4em 0.5em 0.4em;box-sizing: border-box;padding-bottom: 0.4em;background-color: white;}#sk-container-id-5 div.sk-label label {font-family: monospace;font-weight: bold;display: inline-block;line-height: 1.2em;}#sk-container-id-5 div.sk-label-container {text-align: center;}#sk-container-id-5 div.sk-container {/* jupyter's `normalize.less` sets `[hidden] { display: none; }` but bootstrap.min.css set `[hidden] { display: none !important; }` so we also need the `!important` here to be able to override the default hidden behavior on the sphinx rendered scikit-learn.org. See: https://github.com/scikit-learn/scikit-learn/issues/21755 */display: inline-block !important;position: relative;}#sk-container-id-5 div.sk-text-repr-fallback {display: none;}</style><div id=\"sk-container-id-5\" class=\"sk-top-container\"><div class=\"sk-text-repr-fallback\"><pre>DecisionTreeClassifier()</pre><b>In a Jupyter environment, please rerun this cell to show the HTML representation or trust the notebook. <br />On GitHub, the HTML representation is unable to render, please try loading this page with nbviewer.org.</b></div><div class=\"sk-container\" hidden><div class=\"sk-item\"><div class=\"sk-estimator sk-toggleable\"><input class=\"sk-toggleable__control sk-hidden--visually\" id=\"sk-estimator-id-5\" type=\"checkbox\" checked><label for=\"sk-estimator-id-5\" class=\"sk-toggleable__label sk-toggleable__label-arrow\">DecisionTreeClassifier</label><div class=\"sk-toggleable__content\"><pre>DecisionTreeClassifier()</pre></div></div></div></div></div>"
            ]
          },
          "metadata": {},
          "execution_count": 95
        }
      ]
    },
    {
      "cell_type": "code",
      "source": [
        "print(\"Accuracy: \",model.score(x_test, y_test) * 100)"
      ],
      "metadata": {
        "colab": {
          "base_uri": "https://localhost:8080/"
        },
        "id": "Y2r_QKOsCrWM",
        "outputId": "1009c31a-092c-4f6e-bdf9-2a37f0252b54"
      },
      "execution_count": 96,
      "outputs": [
        {
          "output_type": "stream",
          "name": "stdout",
          "text": [
            "Accuracy:  100.0\n"
          ]
        }
      ]
    }
  ]
}